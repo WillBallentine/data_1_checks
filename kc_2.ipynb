{
 "cells": [
  {
   "cell_type": "code",
   "execution_count": 1,
   "metadata": {},
   "outputs": [],
   "source": [
    "import pandas as pd\n",
    "import matplotlib.pyplot as plt"
   ]
  },
  {
   "cell_type": "code",
   "execution_count": null,
   "metadata": {},
   "outputs": [],
   "source": [
    "overall_data = pd.read_csv('assets\\overall_data.csv')\n",
    "overall_data.head()"
   ]
  },
  {
   "cell_type": "code",
   "execution_count": null,
   "metadata": {},
   "outputs": [],
   "source": [
    "overall_data[\"pickup_datetime\"] = pd.to_datetime(overall_data['pickup_datetime'])\n",
    "overall_data['dropoff_datetime'] = pd.to_datetime(overall_data['dropoff_datetime'])"
   ]
  },
  {
   "cell_type": "code",
   "execution_count": null,
   "metadata": {},
   "outputs": [],
   "source": [
    "credit_2019 = overall_data[overall_data['payment_type'] == 'credit_card']\n",
    "credit_2019 = credit_2019.groupby('year')['payment_type'].count()"
   ]
  },
  {
   "cell_type": "code",
   "execution_count": null,
   "metadata": {},
   "outputs": [],
   "source": [
    "cash_2019 = overall_data[overall_data['payment_type'] == 'cash']\n",
    "cash_2019 = cash_2019.groupby('year')['payment_type'].count()"
   ]
  },
  {
   "cell_type": "code",
   "execution_count": null,
   "metadata": {},
   "outputs": [],
   "source": [
    "fig, ax = plt.subplots()\n",
    "credit_2019.plot(title='Credit Card Payments', color='blue', ax=ax)\n",
    "cash_2019.plot(title='Cash  vs. Credit Payments', color='red', ax=ax)\n",
    "ax.legend(['Credit Card', 'Cash'])"
   ]
  }
 ],
 "metadata": {
  "kernelspec": {
   "display_name": "Python 3",
   "language": "python",
   "name": "python3"
  },
  "language_info": {
   "codemirror_mode": {
    "name": "ipython",
    "version": 3
   },
   "file_extension": ".py",
   "mimetype": "text/x-python",
   "name": "python",
   "nbconvert_exporter": "python",
   "pygments_lexer": "ipython3",
   "version": "3.10.7"
  },
  "orig_nbformat": 4
 },
 "nbformat": 4,
 "nbformat_minor": 2
}
